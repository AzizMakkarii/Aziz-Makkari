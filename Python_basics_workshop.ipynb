{
  "nbformat": 4,
  "nbformat_minor": 0,
  "metadata": {
    "colab": {
      "name": "Python basics workshop.ipynb",
      "provenance": [],
      "collapsed_sections": [],
      "authorship_tag": "ABX9TyOKSNAGI90wjQ+lWZo0ZKIc",
      "include_colab_link": true
    },
    "kernelspec": {
      "name": "python3",
      "display_name": "Python 3"
    },
    "language_info": {
      "name": "python"
    }
  },
  "cells": [
    {
      "cell_type": "markdown",
      "metadata": {
        "id": "view-in-github",
        "colab_type": "text"
      },
      "source": [
        "<a href=\"https://colab.research.google.com/github/AzizMakkarii/Aziz-Makkari/blob/main/Python_basics_workshop.ipynb\" target=\"_parent\"><img src=\"https://colab.research.google.com/assets/colab-badge.svg\" alt=\"Open In Colab\"/></a>"
      ]
    },
    {
      "cell_type": "code",
      "metadata": {
        "id": "TldZHyFoYJjD"
      },
      "source": [
        "###Write a Python program which accepts the user's first and last name and print them in reverse order with a space between them.\n",
        "def inverse(x,y):\n",
        "  return print(y,' ',x)\n",
        "x=input('donner le prénom ')\n",
        "y=input('donner le nom m')\n",
        "inverse(x,y)"
      ],
      "execution_count": null,
      "outputs": []
    },
    {
      "cell_type": "code",
      "metadata": {
        "colab": {
          "base_uri": "https://localhost:8080/"
        },
        "id": "7lYALZkIZof1",
        "outputId": "b0da9655-dbd2-45c6-c88a-fec92b8df289"
      },
      "source": [
        "###Write a Python program that accepts an integer (n) and computes the value of n+nn+nnn\n",
        "n=int(input(\"donner l'entier n  \"))\n",
        "s=n+n*11+n*111\n",
        "print(s,'=',n,'+',n*11,'+',n*111)"
      ],
      "execution_count": 8,
      "outputs": [
        {
          "output_type": "stream",
          "text": [
            "donner l'entier n  5\n",
            "615 = 5 + 55 + 555\n"
          ],
          "name": "stdout"
        }
      ]
    },
    {
      "cell_type": "code",
      "metadata": {
        "id": "-ONKlXIWbP_0"
      },
      "source": [
        "###Write a Python program to find whether a given number (accept from the user) is even or odd, print out an appropriate message to the user.\n",
        "n=int(input(\"write the number n\"))\n",
        "if n % 2 == 0 :\n",
        "   print(n,'is odd ')\n",
        "else : print(n,'is even') \n"
      ],
      "execution_count": null,
      "outputs": []
    },
    {
      "cell_type": "code",
      "metadata": {
        "id": "bKPiKKBrcub6"
      },
      "source": [
        "###Write a program which will find all such numbers which are divisible by 7 but are not a multiple of 5, between 2000 and 3200 (both included). The numbers obtained should be printed in a sequence on a single line.\n",
        "for n in range(1999,3201):\n",
        "  if n%7==0 and n%5!=0 :\n",
        "    print(n,'/',end = '')\n",
        "  \n",
        "\n",
        "\n",
        "\n"
      ],
      "execution_count": null,
      "outputs": []
    },
    {
      "cell_type": "code",
      "metadata": {
        "id": "csh4J_L8fxNz"
      },
      "source": [
        "###Write a program that can compute the factorial of a given number. The results should be printed in a sequence on a single line. Suppose the following input is supplied to the program: 8 Then, the output should be: 40320 \n",
        "from math import factorial\n",
        "n=int(input(\"write the number n \"))\n",
        "print(n,'! = ',factorial(n))\n"
      ],
      "execution_count": null,
      "outputs": []
    },
    {
      "cell_type": "code",
      "metadata": {
        "id": "f1YzN9hlkw3-"
      },
      "source": [
        "###Write a program to remove the characters which have odd index values of a given string.\n",
        "str=input('donner la phrase')\n",
        "result = \"\"\n",
        "for i in range(len(str)):\n",
        "    if i % 2 == 0:\n",
        "      result = result + str[i]\n",
        "print(result)"
      ],
      "execution_count": null,
      "outputs": []
    },
    {
      "cell_type": "code",
      "metadata": {
        "colab": {
          "base_uri": "https://localhost:8080/"
        },
        "id": "4n2GCC-JpO_5",
        "outputId": "e216690d-ee27-48da-a347-2471f67a1a42"
      },
      "source": [
        "#In this challenge, you must discount a price according to its value.\n",
        "#- If the price is 500 or above, there will be a 50% discount.\n",
        "#- If the price is between 200 and 500 (200 inclusive), there will be a 30% discount.\n",
        "#- If the price is less than 200, there will be a 10% discount.\n",
        "price=float(input('write the specific price of the item $  '))\n",
        "if price>=500:\n",
        "  print('you have a 50% discount and the new price will be ',price-(price*50)/100,'$')\n",
        "elif 200<=price<500:\n",
        "  print('you have a 30% discount and the new price will be ',price-(price*30)/100,'$')\n",
        "else : print('you have a 10% discount and the new price will be ',price-(price*10)/100,'$')\n",
        "\n"
      ],
      "execution_count": 41,
      "outputs": [
        {
          "output_type": "stream",
          "text": [
            "write the specific price of the item $  500\n",
            "you have a 50% discount and the new price will be  250.0 $\n"
          ],
          "name": "stdout"
        }
      ]
    }
  ]
}